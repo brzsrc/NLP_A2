{
 "cells": [
  {
   "cell_type": "code",
   "metadata": {
    "ExecuteTime": {
     "end_time": "2025-04-25T10:53:59.149853Z",
     "start_time": "2025-04-25T10:53:56.730437Z"
    }
   },
   "source": [
    "import os\n",
    "from typing import List\n",
    "\n",
    "import numpy as np\n",
    "import matplotlib.pyplot as plt\n",
    "\n",
    "os.makedirs('./results', exist_ok=True)\n",
    "\n",
    "with open('./brown_100.txt', 'r') as file_:\n",
    "    corpus = file_.read()\n",
    "\n",
    "def write_freqs(list_: list, filename: str) -> None:\n",
    "    with open(f'./results/{filename}.txt', 'w') as file_:\n",
    "        file_.write('\\n'.join([' '.join(x[0]) + ' | ' + str(x[1]) for x in list_]))"
   ],
   "outputs": [],
   "execution_count": 1
  },
  {
   "cell_type": "markdown",
   "metadata": {},
   "source": [
    "## N-Gram Language Modeling\n",
    "In the second assignment, you will implement an **n-gram language model** that processes input text to generate, analyze, and calculate the probabilities of sequences of `n` words (n-grams). This model will tokenize text, create n-grams, and compute their frequencies and probabilities, returning the most frequent n-grams in the text.\n",
    "\n",
    "1. **Tokenization**: Convert the input text into a list of words (tokens).\n",
    "2. **N-gram Generation**: Create sequences of `n` tokens from the text, treating each sentence independently with the inclusion of start (`<s>`) and end (`</s>`) markers.\n",
    "3. **Frequency Counting**: Count how many times each n-gram appears in the text.\n",
    "4. **Probability Calculation**: Compute the probabilities of each n-gram based on its frequency and add alpha smoothing to improve generalization of items.\n",
    "5. **Most Frequent N-grams**: Return the most frequent n-grams along with their probabilities, helping to identify common patterns in the text."
   ]
  },
  {
   "cell_type": "code",
   "metadata": {
    "ExecuteTime": {
     "end_time": "2025-04-25T10:53:59.166868Z",
     "start_time": "2025-04-25T10:53:59.156404Z"
    }
   },
   "source": [
    "from typing import Tuple\n",
    "import re\n",
    "from collections import Counter, defaultdict # You may import more from collections if needed\n",
    "\n",
    "class NGramModel:\n",
    "    def __init__(self, text, n, alpha=0.0):\n",
    "        \"\"\"\n",
    "        Initialize the NGramModel with text and the value of n.\n",
    "        \"\"\"\n",
    "        self.text = text\n",
    "        self.n = n\n",
    "        self.alpha = alpha  # Alpha value for additive smoothing\n",
    "        self.ngrams = defaultdict(int)\n",
    "        self.probabilities = {}\n",
    "        self.vocab = set()\n",
    "\n",
    "        #For generate n_grams:\n",
    "        #token_list = the list of sentences where each sentence is a list of tokens\n",
    "        self.token_list = []\n",
    "\n",
    "        #For calculating the conditional probability of ngrams when n >= 2\n",
    "        self.unigrams = Counter()\n",
    "        self.bigrams = Counter()\n",
    "\n",
    "    def tokenize(self) -> List[str]:\n",
    "        \"\"\"\n",
    "        Tokenize the text into words.\n",
    "        Fill in the code to split the text into a list of words.\n",
    "        \"\"\"\n",
    "\n",
    "        text =self.text.splitlines()\n",
    "        tokens = []\n",
    "        for line in text:\n",
    "            # we change all the tokens to lowercases here\n",
    "            tokens_per_line = list(map(lambda x: x.lower(), line.strip().split(\" \")))\n",
    "            self.token_list.append(tokens_per_line)\n",
    "            tokens += tokens_per_line\n",
    "        # print(tokens)\n",
    "        # print(\"==\" * 20)\n",
    "        # print(self.token_list)\n",
    "        self.vocab = set(tokens)\n",
    "        return tokens\n",
    "\n",
    "    def generate_ngrams(self, tokens: list) -> dict:\n",
    "        \"\"\"\n",
    "        Generate n-grams from the list of tokens.\n",
    "        Fill in the code to create n-grams.\n",
    "        Make sure to treat each sentence independently, include the <s> and </s> tokens.\n",
    "        \"\"\"\n",
    "        for tokens in self.token_list:\n",
    "            for token in range(0, len(tokens) - self.n + 1):\n",
    "                self.ngrams[tuple(tokens[token:token + self.n])] += 1\n",
    "        return self.ngrams\n",
    "\n",
    "    def count_frequencies(self) -> None:\n",
    "        \"\"\"\n",
    "        Count the frequencies of unigrams and bigrams\n",
    "        which will be used in calculating the conditional probabilities of each n-gram when n >= 2\n",
    "        \"\"\"\n",
    "        self.unigrams = Counter(token for tokens in self.token_list for token in tokens)\n",
    "        self.bigrams = Counter(pair for tokens in self.token_list for pair in zip(tokens, tokens[1:]))\n",
    "\n",
    "    def calculate_probabilities(self) -> None:\n",
    "        \"\"\"\n",
    "        Calculate probabilities of each n-gram based on its frequency. Add alpha smoothing separately.\n",
    "        \"\"\"\n",
    "        total_ngrams = sum(self.ngrams.values())\n",
    "        vocab_size = len(self.vocab)\n",
    "\n",
    "        '''\n",
    "        1. When we are calculating unigrams or calculating the calculate the probabilities without smoothing,\n",
    "        we calculate probabilities of each n-gram based on its frequency;\n",
    "\n",
    "        2. when n >= 2 and we are applying smoothing to each n-gram, we use conditional probabilities:\n",
    "        the formula used is based on the the chapter in SLP on N-Gram Language Models, which is provided in the spec.\n",
    "        P(w_1:w_n) = ∏ P_Add-k(w_k|w_k−1), where k = [1, n]\n",
    "        P_Add-k(w_n|w_(n−1)) = (C(w_(n−1), w_n) + k) / (C(w_(n−1)) + k * V), where k = self.alpha and V = vocab_size.\n",
    "        '''\n",
    "        if self.n == 1 or self.alpha == 0.0:\n",
    "            for ngram, count in self.ngrams.items():\n",
    "                self.probabilities[ngram] = (count + self.alpha) / (total_ngrams + self.alpha * vocab_size)\n",
    "        else:\n",
    "            for ngram, _ in self.ngrams.items():\n",
    "                # print(ngram)\n",
    "                pairs = [pair for pair in zip(ngram, ngram[1:])]\n",
    "\n",
    "                # if ngram == ('the', 'jury'):\n",
    "                #     print(pairs)\n",
    "                #     print(self.unigrams['the'])\n",
    "                #     print(self.bigrams[('the', 'jury')])\n",
    "\n",
    "                probs = [(self.bigrams[token1, token2] + self.alpha)\n",
    "                         / (self.unigrams[token1] + self.alpha * vocab_size) for token1, token2 in pairs]\n",
    "\n",
    "                # if ngram == ('the', 'jury'):\n",
    "                #     print(probs)\n",
    "\n",
    "                for i, prob in enumerate(probs):\n",
    "                    if i == 0:\n",
    "                        self.probabilities[ngram] = prob\n",
    "                    else:\n",
    "                        self.probabilities[ngram] *= prob\n",
    "\n",
    "    def most_frequent_ngrams(self, top_n: int = 10) -> list:\n",
    "        \"\"\"\n",
    "        Return the most frequent n-grams and their probabilities.\n",
    "        \"\"\"\n",
    "\n",
    "        sorted_grams = sorted(self.probabilities.items(), key=lambda item: item[1], reverse=True)\n",
    "        return sorted_grams[:top_n]\n",
    "\n",
    "# Testing the model with an example\n",
    "text = \"This is a simple example to demonstrate how n-grams work in this assignment.\" #Faster than running the full corpus\n",
    "n = 2  # You can change this to 1, 2, or 3 for uni, bi, or trigrams\n",
    "model = NGramModel(text, n)\n",
    "\n",
    "tokens = model.tokenize()\n",
    "print(tokens)\n",
    "ngrams = model.generate_ngrams(tokens)\n",
    "\n",
    "model.count_frequencies()\n",
    "model.calculate_probabilities()\n",
    "\n",
    "# Print the most frequent n-grams\n",
    "print(model.most_frequent_ngrams(10))"
   ],
   "outputs": [
    {
     "name": "stdout",
     "output_type": "stream",
     "text": [
      "['this', 'is', 'a', 'simple', 'example', 'to', 'demonstrate', 'how', 'n-grams', 'work', 'in', 'this', 'assignment.']\n",
      "[(('this', 'is'), 0.08333333333333333), (('is', 'a'), 0.08333333333333333), (('a', 'simple'), 0.08333333333333333), (('simple', 'example'), 0.08333333333333333), (('example', 'to'), 0.08333333333333333), (('to', 'demonstrate'), 0.08333333333333333), (('demonstrate', 'how'), 0.08333333333333333), (('how', 'n-grams'), 0.08333333333333333), (('n-grams', 'work'), 0.08333333333333333), (('work', 'in'), 0.08333333333333333)]\n"
     ]
    }
   ],
   "execution_count": 2
  },
  {
   "cell_type": "markdown",
   "metadata": {},
   "source": [
    "### Unigrams\n",
    "\n",
    "In this section, we apply the `NGramModel` to our corpus. The model can be configured to generate unigrams, bigrams, or trigrams by adjusting the value of `n`. After tokenizing the text and generating the n-grams, the model counts the occurrences of each n-gram and calculates their probabilities. The most frequent n-grams are then written to an output file.\n",
    "\n",
    "By adjusting the n-gram size, we can analyze different levels of word dependencies in the text, providing insights into common word sequences and patterns.  \n",
    "\n",
    "The code below will generate unigrams when the NGramModel is implemented correctly"
   ]
  },
  {
   "cell_type": "code",
   "metadata": {
    "ExecuteTime": {
     "end_time": "2025-04-25T10:53:59.272095Z",
     "start_time": "2025-04-25T10:53:59.265629Z"
    }
   },
   "source": [
    "n = 1  # You can change this to 1, 2, or 3 for uni, bi, or trigrams\n",
    "model = NGramModel(corpus, n)\n",
    "\n",
    "tokens = model.tokenize()\n",
    "ngrams = model.generate_ngrams(tokens)\n",
    "model.count_frequencies()\n",
    "model.calculate_probabilities()\n",
    "print(model.probabilities[(\"all\",)])\n",
    "print(model.probabilities[(\"resolution\",)])\n",
    "\n",
    "most_freq = model.most_frequent_ngrams(10)\n",
    "write_freqs(model.most_frequent_ngrams(10), 'unigrams')\n"
   ],
   "outputs": [
    {
     "name": "stdout",
     "output_type": "stream",
     "text": [
      "0.0004051863857374392\n",
      "0.003646677471636953\n"
     ]
    }
   ],
   "execution_count": 3
  },
  {
   "cell_type": "markdown",
   "metadata": {},
   "source": [
    "### Bigrams\n",
    "Bigrams allow us to explore word pairs and their relationships, providing insight into common word combinations and phrase structures within the corpus.  \n",
    "The code below will generate bigrams when the NGramModel is implemented correctly."
   ]
  },
  {
   "cell_type": "code",
   "metadata": {
    "ExecuteTime": {
     "end_time": "2025-04-25T10:53:59.288590Z",
     "start_time": "2025-04-25T10:53:59.282714Z"
    }
   },
   "source": [
    "n = 2  # You can change this to 1, 2, or 3 for uni, bi, or trigrams\n",
    "model = NGramModel(corpus, n)\n",
    "\n",
    "tokens = model.tokenize()\n",
    "ngrams = model.generate_ngrams(tokens)\n",
    "model.count_frequencies()\n",
    "model.calculate_probabilities()\n",
    "\n",
    "# print(model.probabilities[('all', 'the')])\n",
    "print(model.probabilities[('the', 'jury')])\n",
    "write_freqs(model.most_frequent_ngrams(10), 'bigrams')"
   ],
   "outputs": [
    {
     "name": "stdout",
     "output_type": "stream",
     "text": [
      "0.005489864864864865\n"
     ]
    }
   ],
   "execution_count": 4
  },
  {
   "cell_type": "markdown",
   "metadata": {},
   "source": [
    "### Trigrams\n",
    "Trigrams capture three-word sequences, providing a deeper understanding of longer word dependencies and commonly occurring phrases within the text.  \n",
    "The code below will generate trigrams when the NGramModel is implemented correctly"
   ]
  },
  {
   "cell_type": "code",
   "metadata": {
    "ExecuteTime": {
     "end_time": "2025-04-25T10:53:59.307310Z",
     "start_time": "2025-04-25T10:53:59.300969Z"
    }
   },
   "source": [
    "n = 3  # You can change this to 1, 2, or 3 for uni, bi, or trigrams\n",
    "model = NGramModel(corpus, n)\n",
    "\n",
    "tokens = model.tokenize()\n",
    "ngrams = model.generate_ngrams(tokens)\n",
    "model.count_frequencies()\n",
    "model.calculate_probabilities()\n",
    "print(model.probabilities[('in', 'the', 'past')])\n",
    "\n",
    "write_freqs(model.most_frequent_ngrams(10), 'trigrams')"
   ],
   "outputs": [
    {
     "name": "stdout",
     "output_type": "stream",
     "text": [
      "0.0004409171075837742\n"
     ]
    }
   ],
   "execution_count": 5
  },
  {
   "cell_type": "markdown",
   "metadata": {},
   "source": [
    "### Smoothing\n",
    "Below, we generate **bigrams** with **smoothing** applied by setting `n = 2` and including a smoothing parameter `alpha = 1.0`. Smoothing is useful in language models to handle unseen n-grams by assigning a small probability to them. The model tokenizes the text, generates bigrams, counts their frequencies, and calculates smoothed probabilities. The most frequent bigrams are then written to an output file.\n",
    "\n",
    "\n",
    "\n",
    ""
   ]
  },
  {
   "cell_type": "code",
   "metadata": {
    "ExecuteTime": {
     "end_time": "2025-04-25T10:53:59.321394Z",
     "start_time": "2025-04-25T10:53:59.314334Z"
    }
   },
   "source": [
    "n = 2  # You can change this to 1, 2, or 3 for uni, bi, or trigrams\n",
    "model = NGramModel(corpus, n, alpha=1.0)\n",
    "\n",
    "tokens = model.tokenize()\n",
    "ngrams = model.generate_ngrams(tokens)\n",
    "model.count_frequencies()\n",
    "model.calculate_probabilities()\n",
    "\n",
    "write_freqs(model.most_frequent_ngrams(10), 'bigrams_smoothed')"
   ],
   "outputs": [],
   "execution_count": 6
  },
  {
   "cell_type": "markdown",
   "metadata": {},
   "source": [
    "### Generating Text\n",
    "In this example, we generate text using the **bigrams** model by providing a starting **prompt** (e.g., \"the jury\"). The `generate_text` function creates a sequence of words based on the trained bigram model, starting from the provided prompt and continuing based on the probabilities of the next words.\n",
    "\n",
    "After tokenizing the corpus, generating bigrams, and calculating their frequencies and probabilities, the model uses these learned probabilities to generate text. The generated output is then written to a file.\n",
    "\n",
    "Text generation with n-grams helps illustrate how language models can predict word sequences, allowing us to create new sentences that follow similar patterns found in the original text."
   ]
  },
  {
   "cell_type": "code",
   "metadata": {
    "ExecuteTime": {
     "end_time": "2025-04-25T10:53:59.344645Z",
     "start_time": "2025-04-25T10:53:59.328336Z"
    }
   },
   "source": [
    "import random\n",
    "\n",
    "\n",
    "def generate_text(model: NGramModel, n: int, prompt: str, max_len: int = 50) -> str:\n",
    "    generated_tokens = prompt.strip().split()\n",
    "    current_token = generated_tokens[-(n-1):]\n",
    "    i = 0\n",
    "\n",
    "    while True:\n",
    "        # Collect possible next words and their probabilities\n",
    "        # for ngram, probability in model.probabilities.items():\n",
    "        #     print(list(ngram[:n-1]))\n",
    "        #     print(current_token)\n",
    "        #     print(ngram[n-len(current_token)-1:n-1])\n",
    "        next_word_candidates = [(ngram[-1], prob) for ngram, prob in model.probabilities.items()\n",
    "                                if list(ngram[n-len(current_token)-1:n-1]) == current_token]\n",
    "        print(current_token)\n",
    "        print(next_word_candidates)\n",
    "        '''\n",
    "        we stop if the sentence exceeds the max_len or there are no more candidates\n",
    "        '''\n",
    "        if (not next_word_candidates) or i > max_len:\n",
    "            break\n",
    "\n",
    "        # best_candidate = max(next_word_candidates, key=lambda x: x[1])\n",
    "        # print(best_candidate)\n",
    "        #\n",
    "        # # Unpack the best candidate tuple\n",
    "        # best_word, best_prob = best_candidate\n",
    "        #\n",
    "        # generated_tokens.append(best_word)\n",
    "\n",
    "         # Unpack words and probabilities\n",
    "        words, probs = zip(*next_word_candidates)\n",
    "\n",
    "        # Use random.choices to select based on the probabilities\n",
    "        next_word = random.choices(words, probs, k=1)[0]\n",
    "        print(\"next_word: \", next_word)\n",
    "\n",
    "        generated_tokens.append(next_word)\n",
    "\n",
    "        # Advance to the next state, remove the first token in current_tokens\n",
    "        current_token = generated_tokens[-(n-1):]\n",
    "        i += 1\n",
    "        print(generated_tokens)\n",
    "    return ' '.join(generated_tokens)\n",
    "\n",
    "n = 2  # You can change this to 1, 2, or 3 for uni, bi, or trigrams\n",
    "model = NGramModel(corpus, n, alpha=1.0)\n",
    "tokens = model.tokenize()\n",
    "ngrams = model.generate_ngrams(tokens)\n",
    "model.count_frequencies()\n",
    "model.calculate_probabilities()\n",
    "generated_text = generate_text(model, 2, 'the jury')\n",
    "with open(f'./results/generated_bigrams_smoothing.txt', 'w') as file_:\n",
    "    file_.write(generated_text)\n",
    "\n",
    "n = 2  # You can change this to 1, 2, or 3 for uni, bi, or trigrams\n",
    "model = NGramModel(corpus, n)\n",
    "tokens = model.tokenize()\n",
    "ngrams = model.generate_ngrams(tokens)\n",
    "model.count_frequencies()\n",
    "model.calculate_probabilities()\n",
    "generated_text = generate_text(model, 2, 'the jury')\n",
    "with open(f'./results/generated_bigrams_unsmoothing.txt', 'w') as file_:\n",
    "    file_.write(generated_text)"
   ],
   "outputs": [
    {
     "name": "stdout",
     "output_type": "stream",
     "text": [
      "['jury']\n",
      "[('said', 0.010830324909747292), ('further', 0.0024067388688327317), ('had', 0.0024067388688327317), ('commented', 0.0024067388688327317), ('.', 0.0024067388688327317), ('took', 0.0024067388688327317), ('also', 0.0024067388688327317), ('recommended', 0.0036101083032490976), ('did', 0.0024067388688327317), ('praised', 0.0024067388688327317)]\n",
      "next_word:  had\n",
      "['the', 'jury', 'had']\n",
      "['had']\n",
      "[('over-all', 0.0024509803921568627), ('been', 0.003676470588235294)]\n",
      "next_word:  been\n",
      "['the', 'jury', 'had', 'been']\n",
      "['been']\n",
      "[('charged', 0.0024390243902439024), ('under', 0.0024390243902439024), ('agreed', 0.0024390243902439024), ('mayor', 0.0024390243902439024), ('expected', 0.0024390243902439024), ('an', 0.0024390243902439024), ('consulted', 0.0024390243902439024)]\n",
      "next_word:  an\n",
      "['the', 'jury', 'had', 'been', 'an']\n",
      "['an']\n",
      "[('investigation', 0.002442002442002442), ('orderly', 0.003663003663003663), ('interim', 0.002442002442002442), ('amicable', 0.002442002442002442), ('assistant', 0.002442002442002442)]\n",
      "next_word:  amicable\n",
      "['the', 'jury', 'had', 'been', 'an', 'amicable']\n",
      "['amicable']\n",
      "[('property', 0.002457002457002457)]\n",
      "next_word:  property\n",
      "['the', 'jury', 'had', 'been', 'an', 'amicable', 'property']\n",
      "['property']\n",
      "[('settlement', 0.00245398773006135), (\"''\", 0.00245398773006135)]\n",
      "next_word:  settlement\n",
      "['the', 'jury', 'had', 'been', 'an', 'amicable', 'property', 'settlement']\n",
      "['settlement']\n",
      "[('has', 0.002457002457002457)]\n",
      "next_word:  has\n",
      "['the', 'jury', 'had', 'been', 'an', 'amicable', 'property', 'settlement', 'has']\n",
      "['has']\n",
      "[('seen', 0.002430133657351154), ('been', 0.006075334143377886), ('incorporated', 0.002430133657351154), ('not', 0.0036452004860267314), ('consistently', 0.002430133657351154), ('a', 0.002430133657351154)]\n",
      "next_word:  a\n",
      "['the', 'jury', 'had', 'been', 'an', 'amicable', 'property', 'settlement', 'has', 'a']\n",
      "['a']\n",
      "[('relative', 0.002306805074971165), ('number', 0.002306805074971165), ('result', 0.002306805074971165), ('swipe', 0.002306805074971165), ('proportionate', 0.002306805074971165), ('disproportionate', 0.002306805074971165), ('manner', 0.002306805074971165), ('doctor', 0.002306805074971165), ('fair', 0.002306805074971165), ('son', 0.002306805074971165), ('daughter', 0.002306805074971165), ('year', 0.002306805074971165), ('candidate', 0.0057670126874279125), ('top', 0.002306805074971165), ('meeting', 0.002306805074971165), ('state', 0.0034602076124567475), ('unanimous', 0.002306805074971165), ('first', 0.002306805074971165), ('primary', 0.002306805074971165), ('system', 0.002306805074971165), ('campaign', 0.002306805074971165), ('study', 0.002306805074971165), ('friendly', 0.002306805074971165), ('highway', 0.002306805074971165), ('plan', 0.002306805074971165), ('revolving', 0.0034602076124567475), ('portion', 0.002306805074971165), ('battle', 0.002306805074971165), ('resolution', 0.0034602076124567475), ('$10', 0.002306805074971165), ('similar', 0.002306805074971165), ('vote', 0.002306805074971165), ('constitutional', 0.002306805074971165), ('veteran', 0.0034602076124567475), ('privilege', 0.002306805074971165), ('legislator', 0.002306805074971165), ('long', 0.002306805074971165), ('new', 0.002306805074971165), ('policeman', 0.002306805074971165), ('school', 0.002306805074971165), ('pistol', 0.002306805074971165), ('drop', 0.002306805074971165), ('bit', 0.0034602076124567475), ('dispute', 0.002306805074971165), ('permit', 0.002306805074971165), ('gun', 0.002306805074971165)]\n",
      "next_word:  year\n",
      "['the', 'jury', 'had', 'been', 'an', 'amicable', 'property', 'settlement', 'has', 'a', 'year']\n",
      "['year']\n",
      "[('.', 0.00245398773006135), ('as', 0.00245398773006135)]\n",
      "next_word:  as\n",
      "['the', 'jury', 'had', 'been', 'an', 'amicable', 'property', 'settlement', 'has', 'a', 'year', 'as']\n",
      "['as']\n",
      "[('a', 0.004842615012106538), ('``', 0.002421307506053269), ('71', 0.002421307506053269), ('74', 0.002421307506053269), ('opelika', 0.002421307506053269), ('man', 0.002421307506053269), ('the', 0.002421307506053269), ('they', 0.002421307506053269), ('his', 0.002421307506053269), ('of', 0.002421307506053269), ('state', 0.002421307506053269)]\n",
      "next_word:  71\n",
      "['the', 'jury', 'had', 'been', 'an', 'amicable', 'property', 'settlement', 'has', 'a', 'year', 'as', '71']\n",
      "['71']\n",
      "[('.', 0.002457002457002457)]\n",
      "next_word:  .\n",
      "['the', 'jury', 'had', 'been', 'an', 'amicable', 'property', 'settlement', 'has', 'a', 'year', 'as', '71', '.']\n",
      "['.']\n",
      "[('</s>', 0.09977827050997783)]\n",
      "next_word:  </s>\n",
      "['the', 'jury', 'had', 'been', 'an', 'amicable', 'property', 'settlement', 'has', 'a', 'year', 'as', '71', '.', '</s>']\n",
      "['</s>']\n",
      "[]\n",
      "['jury']\n",
      "[('said', 0.0033783783783783786), ('further', 0.0004222972972972973), ('had', 0.0004222972972972973), ('commented', 0.0004222972972972973), ('.', 0.0004222972972972973), ('took', 0.0004222972972972973), ('also', 0.0004222972972972973), ('recommended', 0.0008445945945945946), ('did', 0.0004222972972972973), ('praised', 0.0004222972972972973)]\n",
      "next_word:  .\n",
      "['the', 'jury', '.']\n",
      "['.']\n",
      "[('</s>', 0.03758445945945946)]\n",
      "next_word:  </s>\n",
      "['the', 'jury', '.', '</s>']\n",
      "['</s>']\n",
      "[]\n"
     ]
    }
   ],
   "execution_count": 7
  },
  {
   "cell_type": "markdown",
   "metadata": {},
   "source": [
    "## Word Vectors\n",
    "Based on the Stanford course: https://web.stanford.edu/class/cs224n/"
   ]
  },
  {
   "cell_type": "markdown",
   "metadata": {},
   "source": [
    "### Count based W2V\n",
    "In this section, we use the previously trained **n-gram model** to calculate a **co-occurrence matrix**. A co-occurrence matrix shows how often words appear together within a specific context (in this case, bigrams), providing insights into word relationships in the corpus.\n",
    "\n",
    "Steps:\n",
    "1. **Tokenization and N-gram Generation**: We first tokenize the text and generate bigrams using the `NGramModel`.\n",
    "2. **Vocabulary and Indexing**: The vocabulary is created from the unique tokens, and a word-to-index mapping is established.\n",
    "3. **Co-occurrence Matrix**: Using the generated n-grams, we compute the co-occurrence matrix, where each entry represents how often two words occur together within the bigrams.\n",
    "\n",
    "The co-occurrence matrix provides a numerical representation of word relationships, which is useful for tasks like word embeddings, semantic analysis, and understanding word associations."
   ]
  },
  {
   "cell_type": "code",
   "metadata": {
    "ExecuteTime": {
     "end_time": "2025-04-25T10:53:59.362183Z",
     "start_time": "2025-04-25T10:53:59.354376Z"
    }
   },
   "source": [
    "# Since we already have a working ngram model, for the next part we can use the ngrams to calculate the co-occurences.\n",
    "model = NGramModel(corpus, 2)\n",
    "tokens = model.tokenize()\n",
    "ngrams = model.generate_ngrams(tokens)\n",
    "\n",
    "def create_co_matrix(ngrams: dict, vocab_size: int, word_to_index: dict) -> np.ndarray:\n",
    "    # Initialize a zero matrix of size vocab_size x vocab_size\n",
    "    co_matrix = np.zeros((vocab_size, vocab_size), dtype=int)\n",
    "\n",
    "    # Iterate over each n-gram and update the matrix based on co-occurrences\n",
    "    for ngram, count in ngrams.items():\n",
    "        if len(ngram) == 2:  # Assuming bigrams, adjust if necessary for other n-gram levels\n",
    "            first_word, second_word = ngram\n",
    "            # Get indices for the words\n",
    "            row_idx = word_to_index[first_word]\n",
    "            col_idx = word_to_index[second_word]\n",
    "            # Increment the matrix position by the count of the n-gram\n",
    "            co_matrix[row_idx, col_idx] += count\n",
    "    return co_matrix\n",
    "\n",
    "def co_matrix_value_counts(co_matrix: np.ndarray) -> None:\n",
    "    non_zero_indices = np.nonzero(co_matrix)\n",
    "    non_zero_values = co_matrix[non_zero_indices]\n",
    "    non_zero_elems = list(zip(non_zero_indices[0], non_zero_indices[1], non_zero_values))\n",
    "    print(non_zero_elems)\n",
    "\n",
    "vocab = list(set(tokens))\n",
    "vocab_size = len(vocab)\n",
    "\n",
    "# Create a word-to-index mapping\n",
    "word_to_index = {word: idx for idx, word in enumerate(vocab)}\n",
    "print(word_to_index)\n",
    "\n",
    "# Generate the co-occurrence matrix\n",
    "co_matrix = create_co_matrix(ngrams, vocab_size, word_to_index)\n",
    "\n",
    "# Optionally, print the matrix or parts of it\n",
    "# co_matrix_value_counts(co_matrix)"
   ],
   "outputs": [
    {
     "name": "stdout",
     "output_type": "stream",
     "text": [
      "{'recommended': 0, 'appraisers': 1, 'making': 2, 'weekend': 3, 'brought': 4, 'friendly': 5, 'attorney': 6, 'work': 7, 'listed': 8, 'rep.': 9, 'real': 10, 'chairman': 11, 'major': 12, 'take': 13, \"georgia's\": 14, 'pass': 15, '$30': 16, 'fact': 17, 'provide': 18, 'harry': 19, 'september-october': 20, '$50': 21, 'thanks': 22, 'heavily': 23, 'pelham': 24, 'asked': 25, 'henry': 26, 'near': 27, 'remedy': 28, 'keeping': 29, 'like': 30, 'durwood': 31, 'post': 32, 'over-all': 33, 'scheduled': 34, 'rob': 35, 'laws': 36, 'on': 37, 'elaborate': 38, 'reelection': 39, 'possible': 40, 'son': 41, '$100': 42, 'of': 43, 'public': 44, 'pricing': 45, \"mayor's\": 46, 'highways': 47, 'campaign': 48, 'atlanta': 49, 'about': 50, 'occupation': 51, 'austin': 52, 'police': 53, 'school': 54, 'this': 55, 'seemed': 56, \"''\": 57, 'influences': 58, 'former': 59, 'distribute': 60, '18': 61, 'mental': 62, 'disproportionate': 63, 'also': 64, 'size': 65, 'sales': 66, '637': 67, 'new': 68, 'term': 69, 'byrd': 70, 'midnight': 71, 'washington': 72, 'fair': 73, 'worth': 74, 'employed': 75, 'alpharetta': 76, 'praise': 77, 'petitions': 78, 'ledford': 79, 'aj': 80, 'continue': 81, 'face': 82, 'ones': 83, 'won': 84, 'should': 85, 'read': 86, 'achieve': 87, 'anonymous': 88, 'become': 89, \"wife's\": 90, 'feel': 91, 'specifically': 92, 'petition': 93, 'or': 94, 'operated': 95, 'grady': 96, 'meanwhile': 97, 'priority': 98, 'm.': 99, 'increased': 100, 'policeman': 101, 'alternative': 102, \"wasn't\": 103, 'republicans': 104, '8': 105, 'find': 106, 'more': 107, 'sen.': 108, 'item': 109, 'jury': 110, 'charge': 111, 'present': 112, 'an': 113, 'told': 114, 'coordinator': 115, 'two': 116, 'directed': 117, 'order': 118, 'barber': 119, 'taken': 120, 'awarding': 121, 'death': 122, 'repealed': 123, 'sheriff': 124, 'visit': 125, 'calmest': 126, 'george': 127, 'members': 128, 'endorse': 129, 'under': 130, 'largest': 131, 'give': 132, 'among': 133, 'revolving': 134, 'services': 135, 'november': 136, 'leading': 137, 'hard-fought': 138, '402': 139, 'added': 140, 'protected': 141, 'savannah': 142, 'produced': 143, 'studied': 144, 'welfare': 145, 'paid': 146, 'county': 147, 'shortly': 148, 'veiled': 149, 'recommendations': 150, 'announced': 151, 'found': 152, 'requesting': 153, 'effective': 154, 'traveled': 155, 'council': 156, 'granted': 157, 'mayor': 158, 'wanted': 159, 'adjournment': 160, 'dissents': 161, 'quiet': 162, 'issuance': 163, 'b.': 164, 'so': 165, 'enthusiastic': 166, 'considering': 167, 'then': 168, 'many': 169, 'thursday': 170, 'extern': 171, 'purchasing': 172, 'construction': 173, 'ready': 174, 'audience': 175, 'schley': 176, 'outright': 177, 'widespread': 178, 'resigned': 179, 'it': 180, 'through': 181, 'takes': 182, 'ballot': 183, 'suit': 184, 'practices': 185, 'raises': 186, 'automobile': 187, 'servants': 188, 'grand': 189, '</s>': 190, 'further': 191, 'during': 192, 'senate': 193, 'fund': 194, 'pay': 195, 'personnel': 196, 'ask': 197, 'four': 198, 'voting': 199, 'validity': 200, 'action': 201, 'urban': 202, 'multi-million-dollar': 203, 'given': 204, 'drop': 205, 'adamant': 206, 'protests': 207, 'enabling': 208, 'education': 209, 'price': 210, 'elected': 211, 'done': 212, 'march': 213, 'cruelty': 214, 'his': 215, 'appointed': 216, 'surveillance': 217, 'evidence': 218, 'every': 219, 'is': 220, 'certain': 221, 'long': 222, 'and': 223, 'generally': 224, 'legislators': 225, 'davis': 226, \"governor's\": 227, 'friday': 228, 'that': 229, '``': 230, 'duty': 231, 'bellwood': 232, 'three': 233, 'likely': 234, 'ever': 235, 'days': 236, 'mrs.': 237, 'age': 238, 'official': 239, 'house': 240, 'fees': 241, 'consulted': 242, 'intern': 243, 'do': 244, 'local': 245, 'interim': 246, 'vote': 247, 'just': 248, 'made': 249, 'emphasizing': 250, 'must': 251, 'responses': 252, 'most': 253, 'bush': 254, 'felix': 255, 'armed': 256, 'back': 257, \"commissioner's\": 258, 'against': 259, 'portion': 260, 'gubernatorial': 261, 'took': 262, 'carry': 263, 'similar': 264, 'bond': 265, 'very': 266, 'handling': 267, 'coolest': 268, 'shot': 269, 'good': 270, 'opelika': 271, 'consistently': 272, 'resignation': 273, 'snodgrass': 274, 'place': 275, 'signatures': 276, 'test': 277, 'hurdle': 278, \"ordinary's\": 279, 'permit': 280, 'additional': 281, 'serve': 282, 'smooth': 283, 'prices': 284, 'pointed': 285, 'gainesville': 286, 'modernizing': 287, 'proposed': 288, 'concessionaires': 289, 'vandiver': 290, 'system': 291, 'legislation': 292, 'title': 293, 'allow': 294, 'tossed': 295, 'd.': 296, 'committee': 297, 'filed': 298, 'whether': 299, 'approval': 300, 'from': 301, 'will': 302, 'allowed': 303, 'lacking': 304, 'put': 305, '29-5': 306, 'adjustments': 307, 'polls': 308, 'executive': 309, 'highway': 310, 'health': 311, 'repair': 312, 'less': 313, 'as': 314, 'jan.': 315, \"saturday's\": 316, 'too': 317, 'failure': 318, '--': 319, 'day': 320, 'amendment': 321, 'child': 322, 'city': 323, 'actions': 324, 'approved': 325, 'cheshire': 326, 'featured': 327, 'afternoon': 328, 'funds': 329, 'apparently': 330, 'let': 331, 'notice': 332, 'time': 333, 'presentments': 334, '1923': 335, 'past': 336, '1': 337, 'chambers': 338, 'where': 339, 'marked': 340, 'courses': 341, 'what': 342, 'dorsey': 343, 'according': 344, 'deserves': 345, 'equitable': 346, 'p.': 347, 'entering': 348, 'judge': 349, 'legislator': 350, '.': 351, 'plans': 352, 'support': 353, 'unanimous': 354, 'head': 355, ':': 356, 'got': 357, 'abandoned': 358, 'jurors': 359, 'rd.': 360, 'reconsideration': 361, 'violence': 362, 'outgoing': 363, 'best': 364, 'see': 365, 'something': 366, 'they': 367, 'assistant': 368, 'agriculture': 369, 'received': 370, 'experienced': 371, 'law': 372, 'authorities': 373, 'interlude': 374, 'callan': 375, '13': 376, 'relations': 377, 'earlier': 378, 'wards': 379, 'them': 380, 'j.': 381, 'other': 382, 'allowances': 383, 'run': 384, 'court': 385, 'bankers': 386, 'year': 387, 'to': 388, 'tuesday': 389, '1962': 390, 'money': 391, 'cost': 392, 'no': 393, 'yet': 394, 'both': 395, 'problem': 396, 'greater': 397, '1937': 398, 'purpose': 399, 'unit': 400, '$10': 401, 'getting': 402, 'tower': 403, 'nevertheless': 404, 'per': 405, 're-set': 406, 'hot': 407, 'traditional': 408, 'itself': 409, 'departments': 410, 'hospital': 411, 'fulton': 412, 'guardians': 413, 'berry': 414, 'reasonable': 415, 'investigation': 416, 'gun': 417, 'property': 418, '$3': 419, 'texas': 420, 'allen': 421, '2': 422, '<s>': 423, \"department's\": 424, 'future': 425, 'election': 426, 'tax': 427, 'prison': 428, 'however': 429, 'marvin': 430, 'defeated': 431, 'its': 432, 'details': 433, 'reports': 434, 'formally': 435, '$4': 436, 'five': 437, 'might': 438, 'been': 439, 'opposed': 440, 'criticisms': 441, 'improving': 442, 'career': 443, 'registration': 444, \"didn't\": 445, 'offered': 446, 'may': 447, 'cent': 448, 'starts': 449, 'smell': 450, 'operation': 451, 'relative': 452, 'into': 453, 'were': 454, 'before': 455, 'upon': 456, 'e.': 457, 'management': 458, '13th': 459, 'combined': 460, 'items': 461, 'office': 462, 'go': 463, 'issue': 464, 'blue': 465, 'in': 466, 'sessions': 467, 'congressional': 468, 'periodic': 469, 'up': 470, 'session': 471, 'church': 472, 'married': 473, 'opposes': 474, '1,119': 475, 'sam': 476, 'research': 477, 'reduce': 478, 'operating': 479, \"atlanta's\": 480, 'manner': 481, 'seen': 482, ')': 483, 'study': 484, 'home': 485, 'officials': 486, 'warned': 487, 'recent': 488, 'attorneys': 489, 'administration': 490, 'determine': 491, 'available': 492, 'establishment': 493, 'when': 494, 'constitutional': 495, 'william': 496, 'democratic': 497, 'counties': 498, 'approve': 499, 'allotted': 500, 'l.': 501, 'eliminate': 502, 'had': 503, 'not': 504, 'worked': 505, 'distribution': 506, 'date': 507, 'warning': 508, 'attended': 509, 'top': 510, 'are': 511, 'efficiency': 512, 'with': 513, 'wife': 514, 'out': 515, 'obtain': 516, 'intends': 517, 'superior': 518, 'candidates': 519, 'miller': 520, \"court's\": 521, 'airport': 522, 'griffin': 523, 'man': 524, 'phone': 525, 'proportionate': 526, 'crowd': 527, 'garland': 528, 'james': 529, 'previous': 530, \"caldwell's\": 531, 'legislature': 532, 'any': 533, 'federal': 534, 'carey': 535, 'result': 536, 'steps': 537, 'passed': 538, 'governor': 539, 'old': 540, 'technical': 541, 'night': 542, 'foster': 543, 'receives': 544, 'together': 545, 'burden': 546, 'birth': 547, 'realize': 548, 'swipe': 549, 'rural': 550, 'often': 551, 'provided': 552, 'urged': 553, 'director': 554, 'pye': 555, 'ambiguous': 556, 'topics': 557, '1913': 558, 'political': 559, 'being': 560, 'georgia': 561, 'sunday': 562, 'soon': 563, 'farms': 564, 'mention': 565, 'procedures': 566, 'at': 567, 'one': 568, 'himself': 569, 'i': 570, \"byrd's\": 571, 'assistance': 572, 'pearl': 573, 'robert': 574, 'quickie': 575, 'votes': 576, 'couple': 577, 'make': 578, 'implementation': 579, 'party': 580, 'revised': 581, 'mac': 582, \"body's\": 583, 'taxpayers': 584, 'mayor-nominate': 585, 'these': 586, 'accepted': 587, 'platform': 588, 'meeting': 589, 'dispute': 590, 'than': 591, 'congress': 592, 'john': 593, 'gov.': 594, 'orderly': 595, 'handful': 596, 'doctor': 597, 'wait': 598, 'courts': 599, 'contracts': 600, 'picking': 601, '74': 602, 'subjected': 603, 'ridge': 604, 'such': 605, 'plan': 606, 'wednesday': 607, 'have': 608, 'battle': 609, 'only': 610, 'outmoded': 611, 'compensation': 612, ',': 613, 'by': 614, 'conducted': 615, 'gop': 616, 'williams': 617, 'fire': 618, 'appointment': 619, 'offer': 620, 'all': 621, 'superintendent': 622, '1961': 623, 'deputies': 624, '(': 625, 'teacher': 626, 'matters': 627, 'we': 628, 'million': 629, 'roads': 630, 'policies': 631, 'registered': 632, 'increase': 633, 'word': 634, 'promised': 635, 'constitution': 636, 'jackson': 637, 'saw': 638, 'liquor': 639, 'follow': 640, 'next': 641, 'resolution': 642, 'inure': 643, 'while': 644, 'enter': 645, 'rejected': 646, 'feared': 647, 'sept.': 648, 'who': 649, 'does': 650, 'protect': 651, 'congressmen': 652, 'employes': 653, 'unmeritorious': 654, 'effected': 655, 'agreed': 656, 'would': 657, 'homes': 658, 'succeeded': 659, 'principal': 660, 'candidate': 661, 'newly': 662, 'believes': 663, 'irregularities': 664, 'aside': 665, 'settlement': 666, 'voted': 667, 'charged': 668, 'but': 669, 'encouragement': 670, 'clerical': 671, 'amicable': 672, 'names': 673, 'was': 674, 'hold': 675, 'number': 676, 'expected': 677, 'reconstruction': 678, 'can': 679, 'fit': 680, 'pension': 681, 'first': 682, 'bonds': 683, 'medical': 684, 'off': 685, 'telephone': 686, 'insure': 687, 'despite': 688, 'term-end': 689, 'voters': 690, 'said': 691, 'hopper': 692, 'went': 693, 'bit': 694, 'last': 695, 'incorporated': 696, 'source': 697, 'calls': 698, 'receive': 699, 'citizens': 700, 'be': 701, 'governments': 702, 'became': 703, 'merger': 704, 'did': 705, 'strong': 706, '87-31': 707, 'board': 708, 'says': 709, 'pistol': 710, 'praised': 711, 'years': 712, 'association': 713, 'act': 714, 'ivan': 715, 'which': 716, 'since': 717, 'rally': 718, 'aid': 719, 'event': 720, 'trouble': 721, 'delegation': 722, 'him': 723, 'stood': 724, 'populous': 725, 'well': 726, 'everything': 727, 'primary': 728, 'there': 729, 'toward': 730, 'brief': 731, 'veteran': 732, 'administrators': 733, 'lt.': 734, 'a': 735, 'has': 736, \"daniel's\": 737, 'costs': 738, 'bar': 739, 'aug.': 740, 'jr.': 741, 'after': 742, '71': 743, 'sign': 744, 'enthusiasm': 745, 'expense': 746, 'colquitt': 747, 'none': 748, 'w.': 749, 'controversy': 750, 'areas': 751, 'ordinary': 752, 'the': 753, 'seek': 754, 'held': 755, 'end': 756, 'begin': 757, 'goes': 758, 'regarding': 759, 'set': 760, 'road': 761, 'for': 762, 'speaker': 763, 'department': 764, 'inadequate': 765, 'effect': 766, 'bowden': 767, 'authority': 768, 'expended': 769, 'exception': 770, 'offices': 771, 'tom': 772, 'investigate': 773, 'some': 774, 'general': 775, 'ala.': 776, 'hartsfield': 777, 'opened': 778, 'caldwell': 779, 'our': 780, 'interest': 781, 'commerce': 782, 'race': 783, 'fully': 784, 'juries': 785, 'commented': 786, 'he': 787, 'daughter': 788, 'state': 789, 'expires': 790, 'monday': 791, 'program': 792, 'precincts': 793, '1958': 794, 'undue': 795, 'asking': 796, 'privilege': 797, 'reportedly': 798, 'promise': 799, 'issued': 800, 'disable': 801, 'threats': 802, 'sought': 803, 'force': 804, 'tabb': 805, 'each': 806, 'divorce': 807, 'learned': 808, 'rescind': 809, 'wind': 810, 'jail': 811, 'lived': 812}\n"
     ]
    }
   ],
   "execution_count": 8
  },
  {
   "cell_type": "markdown",
   "metadata": {},
   "source": [
    "With the code below you can verify if the co-occurence works"
   ]
  },
  {
   "cell_type": "code",
   "metadata": {
    "ExecuteTime": {
     "end_time": "2025-04-25T10:53:59.377726Z",
     "start_time": "2025-04-25T10:53:59.374304Z"
    }
   },
   "source": [
    "def check_co_occurrence(word1, word2, co_matrix, word_to_index):\n",
    "    \"\"\"\n",
    "    Print the co-occurrence count for a specific word pair.\n",
    "    \"\"\"\n",
    "    if word1 not in word_to_index or word2 not in word_to_index:\n",
    "        print(f\"One or both words '{word1}' and '{word2}' are not in the vocabulary.\")\n",
    "        return\n",
    "\n",
    "    index1 = word_to_index[word1]\n",
    "    index2 = word_to_index[word2]\n",
    "\n",
    "    co_count = co_matrix[index1][index2]\n",
    "    print(f\"Co-occurrence count for '{word1}' and '{word2}': {co_count}\")\n",
    "\n",
    "check_co_occurrence('the', 'jury', co_matrix, word_to_index)\n",
    "check_co_occurrence('the', 'cat', co_matrix, word_to_index)"
   ],
   "outputs": [
    {
     "name": "stdout",
     "output_type": "stream",
     "text": [
      "Co-occurrence count for 'the' and 'jury': 13\n",
      "One or both words 'the' and 'cat' are not in the vocabulary.\n"
     ]
    }
   ],
   "execution_count": 9
  },
  {
   "cell_type": "markdown",
   "metadata": {},
   "source": [
    "In this part, we reduce the dimensionality of the **co-occurrence matrix** using **Singular Value Decomposition (SVD)**. This technique helps in extracting the most important features from the matrix, making it easier to visualize and interpret the relationships between words.\n",
    "\n",
    "Steps:\n",
    "1. **Singular Value Decomposition (SVD)**: The co-occurrence matrix is decomposed into three matrices: $\\( M = U \\cdot \\Sigma \\cdot V^T \\)$.\n",
    "2. **Dimensionality Reduction**: We retain only the top `k` components (default is 2) from the SVD, effectively reducing the dimensionality of the matrix.\n",
    "3. **Reduced Matrix**: The reduced matrix retains the most important semantic information and can be used for tasks such as **word embedding visualization** or **semantic similarity analysis**.\n",
    "\n",
    "Dimensionality reduction allows us to capture the essence of word relationships in fewer dimensions, making it more efficient to process and visualize the data."
   ]
  },
  {
   "cell_type": "code",
   "metadata": {
    "ExecuteTime": {
     "end_time": "2025-04-25T10:54:23.235917Z",
     "start_time": "2025-04-25T10:53:59.395943Z"
    }
   },
   "source": [
    "import numpy as np\n",
    "from scipy.linalg import svd\n",
    "from sklearn.decomposition import TruncatedSVD\n",
    "\n",
    "\n",
    "def reduce_to_k_dim(M, k=2):\n",
    "    \"\"\"\n",
    "    Reduce the dimensionality of a co-occurrence matrix using SVD.\n",
    "\n",
    "    :param M: The co-occurrence matrix\n",
    "    :param k: The number of dimensions to reduce to (default is 2)\n",
    "    :return: The reduced matrix\n",
    "    \"\"\"\n",
    "    # Step 1: Perform SVD\n",
    "    # U, S, VT = svd(M, full_matrices=False)\n",
    "    #\n",
    "    # # Step 2: Dimensionality Reduction - retain the top k components\n",
    "    # U_k = U[:, :k]  # Take the first k columns of U\n",
    "    # S_k = np.diag(S[:k])  # Take the top k singular values and form a diagonal matrix\n",
    "    # VT_k = VT[:k, :]  # Take the first k rows of VT\n",
    "    #\n",
    "    # # Step 3: Compute the reduced matrix (dot product of U_k and Sigma_k)\n",
    "    # M_reduced = np.dot(U_k, S_k)\n",
    "    # M_reduced = np.dot(U_k, np.dot(S_k, VT_k))\n",
    "\n",
    "    #use TruncatedSVD to calculate the SVD\n",
    "    svd = TruncatedSVD(n_components=k)\n",
    "    M_reduced = svd.fit_transform(M)\n",
    "\n",
    "    return M_reduced\n",
    "\n",
    "# Example usage\n",
    "# Assume co_matrix has been computed previously\n",
    "# co_matrix = create_co_matrix(...)\n",
    "reduced_matrix = reduce_to_k_dim(co_matrix, k=2)\n",
    "\n",
    "# Print or use the reduced matrix\n",
    "print(\"Reduced Matrix:\\n\", reduced_matrix)"
   ],
   "outputs": [
    {
     "name": "stdout",
     "output_type": "stream",
     "text": [
      "Reduced Matrix:\n",
      " [[ 1.36738033e-04  2.09815171e-01]\n",
      " [ 1.35962053e-04  5.65293412e-03]\n",
      " [ 5.73869433e-06  1.52937112e-01]\n",
      " ...\n",
      " [-3.56388562e-22  5.69630824e-19]\n",
      " [ 3.10752583e-06  5.07775217e-02]\n",
      " [ 7.34424980e-25  4.70985315e-20]]\n"
     ]
    }
   ],
   "execution_count": 10
  },
  {
   "cell_type": "markdown",
   "metadata": {},
   "source": [
    "In this final part, we visualize the reduced word embeddings in **2D space**. After reducing the dimensionality of the co-occurrence matrix using SVD, we plot the embeddings for each word to observe their relationships in a low-dimensional space.\n",
    "\n",
    "Steps:\n",
    "1. **Plotting the Embeddings**: Each word from the vocabulary is plotted based on its 2D coordinates from the reduced matrix.\n",
    "2. **Visualization**: The scatter plot allows us to see how words cluster together or relate to each other based on co-occurrences in the text. Words with similar contexts should appear closer to each other in the plot.\n",
    "3. **Interpretation**: By looking at the 2D plot, we can analyze word similarities, relationships, and clusters formed by words that often occur together.\n",
    "\n",
    "This visualization is a useful tool for understanding the structure of word embeddings and the relationships between words in the corpus.\n",
    "\n",
    "\n",
    "\n",
    "\n",
    "\n"
   ]
  },
  {
   "cell_type": "code",
   "metadata": {
    "ExecuteTime": {
     "end_time": "2025-04-25T10:54:23.782362Z",
     "start_time": "2025-04-25T10:54:23.259084Z"
    }
   },
   "source": [
    "from typing import Dict\n",
    "\n",
    "\n",
    "def plot_embeddings(M_reduced: np.ndarray, word_to_index: Dict[str, int], words: List[str]):\n",
    "    \"\"\"\n",
    "    Plot word embeddings in 2D space.\n",
    "\n",
    "    :param M_reduced: The reduced matrix containing the 2D coordinates for words\n",
    "    :param word_to_index: The vocabulary corresponding to the embeddings\n",
    "    :param words: A list of words to plot\n",
    "    \"\"\"\n",
    "    # Create a dictionary to map words to their embeddings\n",
    "    # for word in words:\n",
    "        # print(M_reduced[1])\n",
    "        # print(word_to_index[word])\n",
    "    word_to_vector = {word: M_reduced[word_to_index[word]] for word in words if word in word_to_index}\n",
    "    print(word_to_vector)\n",
    "\n",
    "    # Extract the coordinates for plotting\n",
    "    coordinates = np.array(list(word_to_vector.values()))\n",
    "\n",
    "    # Create a scatter plot\n",
    "    plt.figure(figsize=(10, 10))\n",
    "    plt.scatter(coordinates[:, 0], coordinates[:, 1])\n",
    "\n",
    "    # Annotate each point with the corresponding word\n",
    "    for i, word in enumerate(word_to_vector.keys()):\n",
    "        plt.annotate(word, (coordinates[i, 0], coordinates[i, 1]), fontsize=12)\n",
    "\n",
    "    plt.title(\"2D Visualization of Word Embeddings\")\n",
    "    plt.xlabel(\"Dimension 1\")\n",
    "    plt.ylabel(\"Dimension 2\")\n",
    "    plt.grid()\n",
    "    plt.show()\n",
    "\n",
    "# words = ['movie', 'book', 'mysterious', 'story', 'fascinating', 'good', 'interesting', 'large', 'massive', 'huge']\n",
    "words =   ['jury', 'mayor', 'election', 'republicans', 'legislators', 'attorney', 'funds', 'highway', 'court', 'county',\n",
    "           'teacher', 'police']\n",
    "\n",
    "vocab = list(set(tokens))\n",
    "# Create a word-to-index mapping\n",
    "word_to_index = {word: idx for idx, word in enumerate(vocab)}\n",
    "reduced_M = reduce_to_k_dim(co_matrix, k=2)\n",
    "\n",
    "plot_embeddings(reduced_M, word_to_index, words)"
   ],
   "outputs": [
    {
     "name": "stdout",
     "output_type": "stream",
     "text": [
      "{'jury': array([0.00040692, 0.17604381]), 'mayor': array([3.20211310e-06, 4.86256542e-02]), 'election': array([0.00120751, 0.09367453]), 'republicans': array([0.00025504, 0.04253906]), 'legislators': array([9.12717082e-06, 1.87537879e-01]), 'attorney': array([0.0003973, 0.0096386]), 'funds': array([0.00052763, 0.06304487]), 'highway': array([3.47834328e-08, 5.07379889e-03]), 'court': array([9.03584251e-06, 2.34780310e-01]), 'county': array([0.00013733, 0.02935304]), 'teacher': array([0.00013606, 0.00780691]), 'police': array([5.80040582e-09, 8.47620736e-04])}\n"
     ]
    },
    {
     "data": {
      "text/plain": [
       "<Figure size 1000x1000 with 1 Axes>"
      ],
      "image/png": "[encoded data removed]"
     },
     "metadata": {},
     "output_type": "display_data"
    }
   ],
   "execution_count": 11
  },
  {
   "cell_type": "markdown",
   "metadata": {},
   "source": [
    "## Prediction-Based Word Vectors\n",
    "In this section, we load pre-trained word vectors using the **GloVe** embeddings from the [Stanford NLP paper on GloVe](https://nlp.stanford.edu/pubs/glove.pdf). The pre-trained embeddings provide rich semantic information about words based on large text corpora, allowing us to represent words as vectors that capture their meaning and relationships.\n",
    "\n",
    "Steps:\n",
    "1. **Load GloVe Word Vectors**: We use the GloVe embeddings from the `glove-wiki-gigaword-200` model, which has 200-dimensional vectors for each word.\n",
    "2. **Vocabulary Matching**: We map the words from our corpus to the GloVe vocabulary and extract the corresponding vectors.\n",
    "3. **Dimensionality Reduction**: After obtaining the word vectors, we reduce the dimensionality to visualize the embeddings in 2D space, allowing us to explore word relationships visually.\n",
    "\n",
    "This is an excellent opportunity to explore how pre-trained embeddings like GloVe can be used to improve downstream NLP tasks by providing richer word representations."
   ]
  },
  {
   "cell_type": "code",
   "metadata": {
    "ExecuteTime": {
     "end_time": "2025-04-25T10:54:28.852099Z",
     "start_time": "2025-04-25T10:54:23.795281Z"
    }
   },
   "source": [
    "from gensim.models import Word2Vec\n",
    "# Do not edit\n",
    "import gensim.downloader as api\n",
    "import numpy as np\n",
    "from gensim.models import KeyedVectors\n",
    "\n",
    "#the api is not compatiable with python11, so we manually load the corpus here\n",
    "wv_from_bin = KeyedVectors.load(\"glove-wiki-gigaword-200.model\")\n",
    "print(\"Loaded vocab size %i\" % len(list(wv_from_bin.index_to_key)))\n",
    "\n",
    "wv_words = list(wv_from_bin.index_to_key)\n",
    "unique_tokens = set(tokens)\n",
    "word2ind = {}\n",
    "M = []\n",
    "idx = 0\n",
    "\n",
    "print('rendering M based on wv')\n",
    "for w in wv_words:\n",
    "    try:\n",
    "        M.append(wv_from_bin.get_vector(w))\n",
    "        word2ind[w] = idx\n",
    "        idx += 1\n",
    "    except:\n",
    "        pass\n",
    "\n",
    "print(idx)\n",
    "print('rendering M based on unique_tokens')\n",
    "for w in unique_tokens:\n",
    "    if w in wv_words:\n",
    "        continue\n",
    "    try:\n",
    "        M.append(wv_from_bin.get_vector(w))\n",
    "        word2ind[w] = idx\n",
    "        idx += 1\n",
    "    except:\n",
    "        pass\n",
    "print(idx)\n",
    "\n",
    "M = np.stack(M)\n",
    "M_reduced = reduce_to_k_dim(M, k=2)\n",
    "\n",
    "M_lengths = np.linalg.norm(M_reduced, axis=1)\n",
    "M_reduced_normalized = M_reduced / M_lengths[:, np.newaxis]"
   ],
   "outputs": [
    {
     "name": "stdout",
     "output_type": "stream",
     "text": [
      "Loaded vocab size 400000\n",
      "rendering M based on wv\n",
      "400000\n",
      "rendering M based on unique_tokens\n",
      "400000\n"
     ]
    }
   ],
   "execution_count": 12
  },
  {
   "cell_type": "markdown",
   "metadata": {},
   "source": [
    "### Compare plots\n",
    "What stands out when comparing the two different ways of embedding using the given words?\n",
    "\n",
    "(Use this to help answer the question in your assignment document)."
   ]
  },
  {
   "cell_type": "code",
   "metadata": {
    "ExecuteTime": {
     "end_time": "2025-04-25T10:54:29.285982Z",
     "start_time": "2025-04-25T10:54:29.092848Z"
    }
   },
   "source": [
    "\n",
    "# plot_embeddings(M_reduced, word2ind, words)\n",
    "'''\n",
    "we compare the normalized embeddings with the original embeddings we get from brown-100.txt\n",
    "'''\n",
    "plot_embeddings(M_reduced_normalized, word2ind, words)\n",
    "plot_embeddings(reduced_M, word_to_index, words)"
   ],
   "outputs": [
    {
     "name": "stdout",
     "output_type": "stream",
     "text": [
      "{'jury': array([ 0.9986267 , -0.05238989], dtype=float32), 'mayor': array([ 0.78648525, -0.6176091 ], dtype=float32), 'election': array([ 0.99999577, -0.00290835], dtype=float32), 'republicans': array([0.98090535, 0.19448566], dtype=float32), 'legislators': array([0.9826049 , 0.18570817], dtype=float32), 'attorney': array([ 0.6813541, -0.7319539], dtype=float32), 'funds': array([0.9700725 , 0.24281536], dtype=float32), 'highway': array([0.95943815, 0.28191915], dtype=float32), 'court': array([ 0.9944885 , -0.10484613], dtype=float32), 'county': array([ 0.99696857, -0.07780526], dtype=float32), 'teacher': array([ 0.91798526, -0.3966144 ], dtype=float32), 'police': array([ 0.976609  , -0.21502301], dtype=float32)}\n"
     ]
    },
    {
     "data": {
      "text/plain": [
       "<Figure size 1000x1000 with 1 Axes>"
      ],
      "image/png": "[encoded data removed]"
     },
     "metadata": {},
     "output_type": "display_data"
    },
    {
     "name": "stdout",
     "output_type": "stream",
     "text": [
      "{'jury': array([0.00040692, 0.17604381]), 'mayor': array([3.20211310e-06, 4.86256542e-02]), 'election': array([0.00120751, 0.09367453]), 'republicans': array([0.00025504, 0.04253906]), 'legislators': array([9.12717082e-06, 1.87537879e-01]), 'attorney': array([0.0003973, 0.0096386]), 'funds': array([0.00052763, 0.06304487]), 'highway': array([3.47834328e-08, 5.07379889e-03]), 'court': array([9.03584251e-06, 2.34780310e-01]), 'county': array([0.00013733, 0.02935304]), 'teacher': array([0.00013606, 0.00780691]), 'police': array([5.80040582e-09, 8.47620736e-04])}\n"
     ]
    },
    {
     "data": {
      "text/plain": [
       "<Figure size 1000x1000 with 1 Axes>"
      ],
      "image/png": "[encoded data removed]"
     },
     "metadata": {},
     "output_type": "display_data"
    }
   ],
   "execution_count": 13
  },
  {
   "cell_type": "markdown",
   "metadata": {},
   "source": [
    "### Words with multiple meanings\n",
    "Polysemes and homonyms are words that have more than one meaning (see [this wiki page](https://en.wikipedia.org/wiki/Polysemy) to learn more about the difference between polysemes and homonyms). Your task is to find a word with at least two different meanings such that the top-10 most similar words (according to cosine similarity) contain related words from both meanings.\n",
    "\n",
    "For example:\n",
    "- \"leaves\" has both the \"go_away\" and \"a_structure_of_a_plant\" meanings in the top 10.\n",
    "- \"scoop\" has both \"handed_waffle_cone\" and \"lowdown\" meanings in the top 10.\n",
    "\n",
    "You will probably need to try several polysemous or homonymic words before you find one.\n",
    "\n",
    "Once you discover a word that fits this criterion, state the word and explain the multiple meanings that occur in the top 10. Reflect on why many of the polysemous or homonymic words you tried didn’t work (i.e., why the top-10 most similar words only contain one of the word's meanings).\n",
    "\n",
    "**Note**: Use the `wv_from_bin.most_similar(word)` function to get the top 10 most similar words. This function ranks all other words in the vocabulary based on their cosine similarity to the given word. For further assistance, you can refer to the [Gensim documentation](https://radimrehurek.com/gensim/models/keyedvectors.html)."
   ]
  },
  {
   "cell_type": "code",
   "metadata": {
    "ExecuteTime": {
     "end_time": "2025-04-25T10:54:29.618266Z",
     "start_time": "2025-04-25T10:54:29.486856Z"
    }
   },
   "source": [
    "## Your code here\n",
    "wv_words = list(wv_from_bin.index_to_key)\n",
    "print(wv_from_bin.most_similar('light'))\n",
    "print()\n",
    "print(wv_from_bin.most_similar('bank'))\n",
    "print()\n",
    "print(wv_from_bin.most_similar('match'))"
   ],
   "outputs": [
    {
     "name": "stdout",
     "output_type": "stream",
     "text": [
      "[('bright', 0.6242774128913879), ('dark', 0.6141001582145691), ('lights', 0.6013951897621155), ('lighter', 0.558175265789032), ('heavy', 0.5408364534378052), ('sunlight', 0.5362918376922607), ('blue', 0.5349379777908325), ('colored', 0.5282376408576965), ('sky', 0.5239452719688416), ('color', 0.513929009437561)]\n",
      "\n",
      "[('banks', 0.7625691294670105), ('banking', 0.6818838119506836), ('central', 0.6283639073371887), ('financial', 0.6166561841964722), ('credit', 0.6049751043319702), ('lending', 0.5980607867240906), ('monetary', 0.5963001847267151), ('bankers', 0.5913101434707642), ('loans', 0.5802939534187317), ('investment', 0.574020266532898)]\n",
      "\n",
      "[('matches', 0.8782557845115662), ('tournament', 0.711606502532959), ('final', 0.6953871250152588), ('semifinal', 0.6713098883628845), ('quarterfinal', 0.6652303338050842), ('play', 0.6628587245941162), ('draw', 0.6566704511642456), ('game', 0.6471269130706787), ('champions', 0.6443206667900085), ('finals', 0.6381971836090088)]\n"
     ]
    }
   ],
   "execution_count": 14
  },
  {
   "metadata": {},
   "cell_type": "markdown",
   "source": [
    "General Failures:\n",
    "\n",
    "Many polysemous words may fail in this task if their embeddings lean strongly towards one meaning based on corpus data. For example, a word like \"bark\" could predominantly reflect \"tree bark\" in specific contexts, leading to similar words being restricted to that context only."
   ]
  },
  {
   "cell_type": "markdown",
   "metadata": {},
   "source": [
    "### Synonyms\n",
    "When considering **Cosine Similarity**, it's often useful to think of **Cosine Distance**, which is simply 1 - Cosine Similarity.\n",
    "\n",
    "Find three words \\( (w_1, w_2, w_3) \\) where:\n",
    "- \\(w_1\\) and \\(w_2\\) are **synonyms**.\n",
    "- \\(w_1\\) and \\(w_3\\) are **antonyms**.\n",
    "\n",
    "However, you need to find a case where **Cosine Distance** $\\( (w_1, w_3) < \\text{Cosine Distance} (w_1, w_2) \\)$. In other words, the antonym is **closer** to the word than its synonym in the vector space.\n",
    "\n",
    "For example, \"happy\" (\\(w_1\\)) may be closer to \"sad\" (\\(w_3\\)) than to \"cheerful\" (\\(w_2\\)), which is counter-intuitive since we expect synonyms to be closer than antonyms. \n",
    "\n",
    "Once you find such an example, provide a possible explanation for why this result may have occurred.\n",
    "\n",
    "Use the `wv_from_bin.distance(w1, w2)` function to compute the cosine distance between two words. You can refer to the [Gensim documentation](https://radimrehurek.com/gensim/models/keyedvectors.html) for further assistance.\n",
    "\n",
    "\n",
    "\n",
    "\n",
    "\n"
   ]
  },
  {
   "cell_type": "code",
   "metadata": {
    "ExecuteTime": {
     "end_time": "2025-04-25T10:54:29.835230Z",
     "start_time": "2025-04-25T10:54:29.830908Z"
    }
   },
   "source": [
    "## Your code here\n",
    "#synonyms: tongyici\n",
    "#antonyms: fanyici\n",
    "\n",
    "w1 = 'large'      # The main word\n",
    "w2 = 'big'        # Synonym\n",
    "w3 = 'small'      # Antonym\n",
    "\n",
    "distance_w1_w2 = wv_from_bin.distance(w1, w2)  # Synonym distance\n",
    "distance_w1_w3 = wv_from_bin.distance(w1, w3)  # Antonym distance\n",
    "\n",
    "print(f\"Cosine Distance (w1: {w1}, w2: {w2}): {distance_w1_w2}\")\n",
    "print(f\"Cosine Distance (w1: {w1}, w3: {w3}): {distance_w1_w3}\")\n",
    "\n",
    "# Analyze results\n",
    "if distance_w1_w3 < distance_w1_w2:\n",
    "    print(f\"right ans: The antonym '{w3}' is closer to '{w1}' than the synonym '{w2}'.\")\n",
    "else:\n",
    "    print(f\"wrong ans: The synonym '{w2}' is closer to '{w1}' than the antonym '{w3}'.\")"
   ],
   "outputs": [
    {
     "name": "stdout",
     "output_type": "stream",
     "text": [
      "Cosine Distance (w1: large, w2: big): 0.33401328325271606\n",
      "Cosine Distance (w1: large, w3: small): 0.1497916579246521\n",
      "right ans: The antonym 'small' is closer to 'large' than the synonym 'big'.\n"
     ]
    }
   ],
   "execution_count": 15
  },
  {
   "cell_type": "markdown",
   "metadata": {},
   "source": [
    "### Analogies\n",
    "Word vectors have demonstrated the ability to solve analogies based on their learned semantic relationships. For instance, consider the analogy: \n",
    "\n",
    "**\"man : grandfather :: woman : x\"** \n",
    "\n",
    "(Read: man is to grandfather as woman is to x). Using word vectors, we can find the word \\(x\\) that completes the analogy.\n",
    "\n",
    "In the example provided, we use the `most_similar` function from the Gensim library. This function identifies words that are most similar to the words in the positive list and most dissimilar to those in the negative list. For analogy solving, it effectively computes:\n",
    "\n",
    "$\\[ \\text{word}(x) = \\text{most similar to} (\\text{woman} + \\text{grandfather} - \\text{man}) \\]$\n",
    "\n",
    "The result is the word with the highest cosine similarity to the target vector. You can use this approach to explore various analogies and gain insights into the semantic structure of word vectors.\n",
    "\n",
    "Refer to the [Gensim documentation](https://radimrehurek.com/gensim/models/keyedvectors.html) for more details on the `most_similar` function and how word vectors handle analogy-solving tasks."
   ]
  },
  {
   "cell_type": "code",
   "metadata": {
    "ExecuteTime": {
     "end_time": "2025-04-25T10:54:30.245646Z",
     "start_time": "2025-04-25T10:54:30.236129Z"
    }
   },
   "source": [
    "# Run this cell to answer the analogy -- man : grandfather :: woman : x\n",
    "print(wv_from_bin.most_similar(positive=['woman', 'grandfather'], negative=['man']))"
   ],
   "outputs": [
    {
     "name": "stdout",
     "output_type": "stream",
     "text": [
      "[('grandmother', 0.7608445286750793), ('granddaughter', 0.7200807332992554), ('daughter', 0.7168302536010742), ('mother', 0.7151536345481873), ('niece', 0.7005681395530701), ('father', 0.6659888029098511), ('aunt', 0.6623408794403076), ('grandson', 0.6618767380714417), ('grandparents', 0.6446609497070312), ('wife', 0.6445354223251343)]\n"
     ]
    }
   ],
   "execution_count": 16
  },
  {
   "metadata": {},
   "cell_type": "markdown",
   "source": "man : grandfather :: woman : grandmother"
  },
  {
   "cell_type": "markdown",
   "metadata": {},
   "source": [
    "### Bias in word vectors\n",
    "a. **Observation**: Consider the results of a word vector model when queried with analogies involving \"man\", \"woman\", and \"profession\". What are the top results returned by the model for each query?\n",
    "\n",
    "1. 'reputation', 'professions', 'skill', 'skills', 'ethic', 'business', 'respected', 'practice', 'regarded', 'life'\n",
    "2. 'professions', 'practitioner', 'teaching', 'nursing', 'vocation', 'teacher', 'practicing', 'educator', 'physicians, 'professionals'\n",
    "\n",
    "b. **Analysis**: Do you observe any gender biases in the results? For example, are certain professions more closely associated with \"man\" or \"woman\" based on the word vectors? Discuss how word embeddings might perpetuate societal biases present in the training data.\n",
    "\n",
    "1. Professions Associated with Men and Women:\n",
    "In the first query involving \"man,\" the results feature general professional terms like \"reputation,\" which are broader and less gender-specific. However, they are dominated by words related to skills and attributes, suggesting a focus on professional qualities.\n",
    "In the second query involving \"woman,\" many results explicitly point towards professions traditionally associated with women, such as \"nursing\" and \"teaching.\" The appearance of these specific professions suggests that the embedding captures societal norms that typically associate these roles with women.\n",
    "2. Bias Representation:\n",
    "The difference in responses demonstrates that the embeddings reflect societal biases and stereotypes regarding gender and professions. Professions like \"nursing\" and \"teaching\" have a historical bias towards women, while the results associated with \"man\" do not feature male-specific professions but general professional attributes.\n",
    "This discrepancy can undermine the equality and fairness expected in linguistic representations, perpetuating gender stereotypes.\n",
    "\n",
    "c. **Reflection**: How might such biases affect the fairness of machine learning models that use word embeddings? Suggest potential strategies for mitigating gender bias in word vector models.\n",
    "\n",
    "1. Impact on Machine Learning Models:\n",
    "Such biases in word embeddings can lead to unfair outcomes in various natural language processing applications, including:\n",
    "Recruitment Systems: If a model trained on biased embeddings indicates a lower likelihood for positions traditionally held by one gender, it could negatively impact hiring practices.\n",
    "Sentiment Analysis: Associating negative sentiments with female-associated professions or attributes can skew the results of sentiment analysis toward gender bias.\n",
    "2. Strategies for Mitigating Gender Bias:\n",
    "Debiasing Techniques: Implement algorithms designed to reduce bias in embeddings after training. Techniques like post-processing the embeddings using methods such as the Hard Debiasing algorithm can help mitigate biases.\n",
    "Balanced Training Data: Ensuring diversity and balance in the training dataset can help create fairer embeddings, avoiding reinforcing societal biases.\n",
    "Regular Audits and Evaluations: Regularly analyzing models for biased outputs and addressing them proactively can help maintain fairness.\n",
    "Contextualized Embeddings: Using context-aware models, like transformers (e.g., BERT), can help capture meanings more nuancedly than static word vectors, potentially alleviating some biases.\n",
    "Educating Stakeholders: Raising awareness among data scientists and engineers about the implications of bias in embeddings can promote better practices and designs.\n"
   ]
  },
  {
   "cell_type": "code",
   "metadata": {
    "ExecuteTime": {
     "end_time": "2025-04-25T10:54:30.272273Z",
     "start_time": "2025-04-25T10:54:30.254892Z"
    }
   },
   "source": [
    "print(wv_from_bin.most_similar(positive=['man', 'profession'], negative=['woman']))\n",
    "print()\n",
    "print(wv_from_bin.most_similar(positive=['woman', 'profession'], negative=['man']))"
   ],
   "outputs": [
    {
     "name": "stdout",
     "output_type": "stream",
     "text": [
      "[('reputation', 0.5250176191329956), ('professions', 0.5178037881851196), ('skill', 0.49046966433525085), ('skills', 0.49005505442619324), ('ethic', 0.4897659420967102), ('business', 0.487585186958313), ('respected', 0.4859202802181244), ('practice', 0.48210465908050537), ('regarded', 0.4778572916984558), ('life', 0.4760662019252777)]\n",
      "\n",
      "[('professions', 0.5957457423210144), ('practitioner', 0.4988412857055664), ('teaching', 0.48292139172554016), ('nursing', 0.48211798071861267), ('vocation', 0.4788966476917267), ('teacher', 0.47160348296165466), ('practicing', 0.4693780839443207), ('educator', 0.4652431905269623), ('physicians', 0.46289944648742676), ('professionals', 0.4601393938064575)]\n"
     ]
    }
   ],
   "execution_count": 17
  }
 ],
 "metadata": {
  "kernelspec": {
   "display_name": "midigpt",
   "language": "python",
   "name": "python3"
  },
  "language_info": {
   "codemirror_mode": {
    "name": "ipython",
    "version": 3
   },
   "file_extension": ".py",
   "mimetype": "text/x-python",
   "name": "python",
   "nbconvert_exporter": "python",
   "pygments_lexer": "ipython3",
   "version": "3.10.0"
  }
 },
 "nbformat": 4,
 "nbformat_minor": 2
}
